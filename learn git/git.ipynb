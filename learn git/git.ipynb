{
 "cells": [
  {
   "cell_type": "markdown",
   "metadata": {},
   "source": [
    "## Aprendiendo git "
   ]
  },
  {
   "cell_type": "markdown",
   "metadata": {},
   "source": [
    "video: https://www.youtube.com/watch?v=CK5ZcKZsMRs"
   ]
  },
  {
   "cell_type": "markdown",
   "metadata": {},
   "source": [
    "git: sistema de control de versiones. Los repositoris de codigo mas famosos que usan git son github y gitlab."
   ]
  },
  {
   "cell_type": "markdown",
   "metadata": {},
   "source": [
    "Esta conformado por branchs/ramas, cada rama es un estado del codigo en un determnado momento.\n",
    "<img src='imgs/lasRamasEnGit.png'>"
   ]
  },
  {
   "cell_type": "markdown",
   "metadata": {},
   "source": [
    "Los programadores pueden realizar copias de la rama que desee o de la rama actual del proyecto y trabajar en su parte del proyecto, y tambien puede haber varias copias de una rama. La idea es de al final que las ramas se vayan uniendo."
   ]
  },
  {
   "cell_type": "markdown",
   "metadata": {},
   "source": [
    "Creacion de repositorio en GitHub\n",
    "\n",
    "1) en \"repositories\" apretar en \"new\", va a aparecer lo siguiente:\n",
    "<img src='imgs/creacionDeRepositorio.png'>\n",
    "2) en \"repository name\" ponemos el nombre de nustro repositorio con espacios o juntos da igual\n",
    "3)se puede elegir que sea publico o privado\n"
   ]
  },
  {
   "cell_type": "markdown",
   "metadata": {},
   "source": [
    "¿Que es commit? Es cuando realizaste un cambio y te comprometes a que el cambio que realizaste esta correcto"
   ]
  },
  {
   "cell_type": "markdown",
   "metadata": {},
   "source": [
    "clonar un proyecto desde el github desktop\n",
    "\n",
    "<img src='imgs/clonarProyectoDesdeGitHubDesktop.png'>"
   ]
  },
  {
   "cell_type": "markdown",
   "metadata": {},
   "source": [
    "cuando hacemos un cambio en un repositorio clonado debemos poner un titulo caracteristico de lo que hicimos\n",
    "<img src='imgs/tituloDelCommit.png'>"
   ]
  },
  {
   "cell_type": "markdown",
   "metadata": {},
   "source": [
    "Al apretar en \"commit to main\" en realidad todavia no se subio, para terminar de subirlo debemos apretar en \"push origin\" y ahi si se subira al repositorio original"
   ]
  },
  {
   "cell_type": "markdown",
   "metadata": {},
   "source": [
    "# creacion de ramas\n",
    "\n",
    "puede haber distintas ramas creadnolas y que sean una ramificacion del main se crean en \"Branches\" ahi apretamos \"new branch\" y le damos un nombre, ahi modificamos o creamos lo que se deba y luego se sube al repositorio como una rama dsitinta al main.\n",
    "\n",
    "Si queremos que esa rama se unifique al repositorio principal o main lo que debemos hacer es un \"pull request\" (es un boton) parado en la rama a agregar. Lo que va a hacer es traer los cambios de esa rama a la principal.\n",
    "\n",
    "Ahi va a una etapa de verificacion, donde otro programador verifica que todo este correcto y nada se rompa ni nada del estilo, una vez revisado y visto que todo esta correcto lo siguiente a hacer es un \"merge pull request\" y esa es la etapa final donde los cambios ya van a estar subidos"
   ]
  },
  {
   "cell_type": "markdown",
   "metadata": {},
   "source": [
    "# comandos basicos de git\n",
    "\n",
    "<img src='imgs/comandosDeGit.png'>"
   ]
  },
  {
   "cell_type": "markdown",
   "metadata": {},
   "source": [
    "# git atravez de la consola\n",
    "\n",
    "clonar repositorio desde github: apretamos en \"code\" dsp en \"HTTPS\", luego copiamos el enlace y luego llevamos eso que copiamos a la consola\n",
    "escribimos el comando \"git clone *lo copiado*\"\n",
    "\n",
    "supongamos que hacemos un cambio en el archivo, si queremos subir estos cambios desde la terminal:\n",
    "primero debemos agregar los archivos que modificamos, debemos entrar a la carpeta del repositorio,\n",
    " \"git status\" se ve los archivos modificados\n",
    " \"git add 'nombre archivo modificado'\" ahi agrega un unico archivo\n",
    " \"git add . \" sube todas las modificaciones\n",
    "\n",
    " para realizar el commit:\n",
    " \" git commit -m \"modificacion del modulo1\"\"  -m para indicar que se agrega un mensaje, el mensaje es lo que esta entre comillas\n",
    " esto se puso localmente pero todavia no se subio, para subirlo escribimos\n",
    " \"git push\" y se sube\n",
    " \n",
    " \"git branch\"  te dice en que rama estas parado\n",
    " \"git checkout -b prueba\" se crea una nueva rama localmente -b pone un nombre, lo seguido es el nombre\n",
    "\n",
    " esta rama esta creada localmente, no nestan subidos los cambios. si quiero crear esta rama en github debo poner el siguiente comando: git push --set-upstream origin 'nombre de la rama'\n",
    "\n",
    "\"git checkout +nombredelaramaquequierair\" para cambiar de rama \n",
    "\"git pull\" trae todos los cambios\n",
    "\n",
    "\"git stash \" guarda los cambios localmente, sin subirlos para luego poder seguir programando y que no se suba nada sin terminar\n",
    "\n",
    "\"git stash apply\" esos cambios que hice y no quise subirlos ahora para subirlos tengo que poner este comando \n",
    "\n",
    "\"git checkout .\" para deshacer todos esos cambios que hice \n",
    "\n",
    "\"git log\" ver todos los cammits que se hicieron\n"
   ]
  },
  {
   "cell_type": "markdown",
   "metadata": {},
   "source": [
    "los commits se pueden llegar a eliminar pero no se pueden modificar, hay quye tener cuidado y estar seguro que lo que queremos subir esta correcto"
   ]
  },
  {
   "cell_type": "markdown",
   "metadata": {},
   "source": [
    "para que git ignore algun archivo o carpeta debemos crear un \".gitignore\" y adentro ponemos el nombre del archivo o carpéta que querramos que git ignore"
   ]
  },
  {
   "cell_type": "markdown",
   "metadata": {},
   "source": [
    "readme: una explicacion simple de lo que es nuestro proyecto y como inicializarlo\n",
    "pagina pára entenderlo mejor: www.makereadme.com"
   ]
  }
 ],
 "metadata": {
  "language_info": {
   "name": "python"
  },
  "orig_nbformat": 4
 },
 "nbformat": 4,
 "nbformat_minor": 2
}
